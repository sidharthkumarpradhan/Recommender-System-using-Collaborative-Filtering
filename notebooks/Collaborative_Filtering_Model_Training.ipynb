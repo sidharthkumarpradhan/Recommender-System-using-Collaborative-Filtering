{
 "cells": [
  {
   "cell_type": "code",
   "execution_count": null,
   "metadata": {},
   "outputs": [],
   "source": [
    "# Collaborative_Filtering_Model_Training.ipynb\n",
    "\n",
    "# Import necessary libraries\n",
    "import torch\n",
    "import torch.nn as nn\n",
    "import torch.optim as optim\n",
    "from torch.utils.data import DataLoader\n",
    "from collaborative_filtering_model import CollaborativeFilteringModel\n",
    "\n",
    "# Load the preprocessed data\n",
    "train_df = pd.read_csv('data/train_ratings.csv')\n",
    "\n",
    "# Initialize model, optimizer, and criterion\n",
    "model = CollaborativeFilteringModel(num_users, num_items, embedding_dim=50)\n",
    "optimizer = optim.Adam(model.parameters())\n",
    "criterion = nn.MSELoss()\n",
    "\n",
    "# Move model to device\n",
    "model = model.to(device)\n",
    "criterion = criterion.to(device)\n",
    "\n",
    "# Create PyTorch DataLoader for training\n",
    "train_dataset = RatingDataset(train_df, user_dict, item_dict)\n",
    "train_loader = DataLoader(train_dataset, batch_size=64, shuffle=True)\n",
    "\n",
    "# Training loop\n",
    "def train(model, train_loader, optimizer, criterion):\n",
    "    model.train()\n",
    "    total_loss = 0.0\n",
    "\n",
    "    for batch in train_loader:\n",
    "        optimizer.zero_grad()\n",
    "        user_ids, item_ids, ratings = batch\n",
    "        predictions = model(user_ids, item_ids)\n",
    "        loss = criterion(predictions, ratings)\n",
    "        loss.backward()\n",
    "        optimizer.step()\n",
    "        total_loss += loss.item()\n",
    "\n",
    "    return total_loss / len(train_loader)\n",
    "\n",
    "# Number of epochs for training\n",
    "N_EPOCHS = 10\n",
    "\n",
    "# Train the model\n",
    "for epoch in range(N_EPOCHS):\n",
    "    train_loss = train(model, train_loader, optimizer, criterion)\n",
    "    print(f'Epoch: {epoch + 1}, Training Loss: {train_loss:.4f}')\n"
   ]
  }
 ],
 "metadata": {
  "language_info": {
   "name": "python"
  }
 },
 "nbformat": 4,
 "nbformat_minor": 2
}
