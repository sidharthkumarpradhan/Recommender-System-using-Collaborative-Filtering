{
 "cells": [
  {
   "cell_type": "code",
   "execution_count": null,
   "metadata": {},
   "outputs": [],
   "source": [
    "# Collaborative_Filtering_Inference.ipynb\n",
    "\n",
    "# Import necessary libraries\n",
    "from collaborative_filtering_model import CollaborativeFilteringModel\n",
    "\n",
    "# Load the preprocessed data\n",
    "test_df = pd.read_csv('data/test_ratings.csv')\n",
    "\n",
    "# Initialize model\n",
    "model = CollaborativeFilteringModel(num_users, num_items, embedding_dim=50)\n",
    "model.load_state_dict(torch.load('saved_model.pt'))\n",
    "model.eval()\n",
    "\n",
    "# Inference function\n",
    "def predict_rating(model, user_id, item_id):\n",
    "    model.eval()\n",
    "    with torch.no_grad():\n",
    "        user_tensor = torch.LongTensor([user_id]).to(device)\n",
    "        item_tensor = torch.LongTensor([item_id]).to(device)\n",
    "        prediction = model(user_tensor, item_tensor)\n",
    "    return prediction.item()\n",
    "\n",
    "# Example usage\n",
    "user_id = 1\n",
    "item_id = 5\n",
    "predicted_rating = predict_rating(model, user_id, item_id)\n",
    "print(f\"Predicted Rating for User {user_id}, Item {item_id}: {predicted_rating:.2f}\")\n"
   ]
  }
 ],
 "metadata": {
  "language_info": {
   "name": "python"
  }
 },
 "nbformat": 4,
 "nbformat_minor": 2
}
